{
 "cells": [
  {
   "cell_type": "markdown",
   "metadata": {},
   "source": [
    "Define import"
   ]
  },
  {
   "cell_type": "code",
   "execution_count": 1,
   "metadata": {},
   "outputs": [],
   "source": [
    "from __future__ import print_function\n",
    "from ipywidgets import interact, interactive, fixed, interact_manual\n",
    "import ipywidgets as widgets\n",
    "import numpy as np"
   ]
  },
  {
   "cell_type": "markdown",
   "metadata": {},
   "source": [
    "Define some useful functions"
   ]
  },
  {
   "cell_type": "code",
   "execution_count": 2,
   "metadata": {},
   "outputs": [],
   "source": [
    "def sigmoid(x):\n",
    "  return 1 / (1 + np.exp(-x))"
   ]
  },
  {
   "cell_type": "code",
   "execution_count": 3,
   "metadata": {},
   "outputs": [],
   "source": [
    "def f(inputs, weights_l1, bias_l1, weights_l2, bias_l2):\n",
    "    output_l1 = sigmoid(np.dot(inputs,weights_l1.T) + bias_l1)\n",
    "    print(\"Output Layer 1 before sigmoid %s\" % str(np.dot(inputs,weights_l1.T) + bias_l1))\n",
    "    output_l2 = np.dot(output_l1,weights_l2.T) + bias_l2\n",
    "    return sigmoid(output_l2)"
   ]
  },
  {
   "cell_type": "code",
   "execution_count": 190,
   "metadata": {},
   "outputs": [],
   "source": [
    "i1 = widgets.Dropdown(options=['0', '1'],value='1', description='x1', disabled=False)\n",
    "i2 = widgets.Dropdown(options=['0', '1'],value='0', description='x2', disabled=False)\n",
    "w1 = widgets.IntSlider(description='w1', min = -10, max = 10, value=-5)\n",
    "w2 = widgets.IntSlider(description='w2', min = -10, max = 10, value=-7)\n",
    "w3 = widgets.IntSlider(description='w3', min = -10, max = 10, value=-5)\n",
    "w4 = widgets.IntSlider(description='w4', min = -10, max = 10, value=-7)\n",
    "w5 = widgets.IntSlider(description='w5', min = -15, max = 15, value=12)\n",
    "w6 = widgets.IntSlider(description='w6', min = -15, max = 15, value=-12)\n",
    "b1 = widgets.IntSlider(description='b1', min = -10, max = 10, value=8)\n",
    "b2 = widgets.IntSlider(description='b2', min = -10, max = 10, value=3)\n",
    "b3 = widgets.IntSlider(description='b3', min = -10, max = 10, value=-5)\n",
    "w_i = widgets.VBox([i1, i2])\n",
    "w_l1 = widgets.VBox([b1, w1, w2, w3, w4,b2])\n",
    "w_l2 = widgets.VBox([w5, w6, b3])\n",
    "output_caption = widgets.HTMLMath(value=r\"$$\\hat{Y}=$$\")\n",
    "layout = widgets.HBox([w_i, w_l1, w_l2,output_caption])"
   ]
  },
  {
   "cell_type": "code",
   "execution_count": 191,
   "metadata": {},
   "outputs": [],
   "source": [
    "def f_interface(i1=0,i2=0,w1=0,w2=0,b1=0,w3=0,w4=0,b2=0,w5=0,w6=0,b3=0):\n",
    "    inputs = np.array([int(i1),int(i2)])\n",
    "    weights_l1 = np.array([[w1, w2],[w3, w4]])\n",
    "    bias_l1 = np.array([b1,b2])\n",
    "    weights_l2 = np.array([[w5, w6]])\n",
    "    bias_l2 = np.array([b3])  \n",
    "    result = f(inputs,weights_l1,bias_l1,weights_l2,bias_l2)     \n",
    "    print(\"Final output %f\" % result)\n",
    "    output_caption.value = r\"$$\\hat{Y}=$$\"+str(result[0])\n",
    "    return "
   ]
  },
  {
   "cell_type": "code",
   "execution_count": 192,
   "metadata": {},
   "outputs": [],
   "source": [
    "out = widgets.interactive_output(f_interface, {'i1':i1, 'i2':i2, 'w1': w1, 'w2': w2, 'b1': b1, \n",
    "                                               'w3': w3, 'w4': w4, 'b2': b2,\n",
    "                                              'w5': w5, 'w6': w6, 'b3': b3})"
   ]
  },
  {
   "cell_type": "markdown",
   "metadata": {},
   "source": [
    "<img src=\"https://github.com/frederictost/ai_training/blob/master/xor_network.png?raw=true\" alt=\"nn\" width=\"600\"/>"
   ]
  },
  {
   "cell_type": "code",
   "execution_count": 193,
   "metadata": {},
   "outputs": [
    {
     "data": {
      "application/vnd.jupyter.widget-view+json": {
       "model_id": "ad48b4a3697e426c86bfa31b5c06cae4",
       "version_major": 2,
       "version_minor": 0
      },
      "text/html": [
       "<p>Failed to display Jupyter Widget of type <code>HBox</code>.</p>\n",
       "<p>\n",
       "  If you're reading this message in the Jupyter Notebook or JupyterLab Notebook, it may mean\n",
       "  that the widgets JavaScript is still loading. If this message persists, it\n",
       "  likely means that the widgets JavaScript library is either not installed or\n",
       "  not enabled. See the <a href=\"https://ipywidgets.readthedocs.io/en/stable/user_install.html\">Jupyter\n",
       "  Widgets Documentation</a> for setup instructions.\n",
       "</p>\n",
       "<p>\n",
       "  If you're reading this message in another frontend (for example, a static\n",
       "  rendering on GitHub or <a href=\"https://nbviewer.jupyter.org/\">NBViewer</a>),\n",
       "  it may mean that your frontend doesn't currently support widgets.\n",
       "</p>\n"
      ],
      "text/plain": [
       "HBox(children=(VBox(children=(Dropdown(description='x1', index=1, options=('0', '1'), value='1'), Dropdown(description='x2', options=('0', '1'), value='0'))), VBox(children=(IntSlider(value=8, description='b1', max=10, min=-10), IntSlider(value=-5, description='w1', max=10, min=-10), IntSlider(value=-7, description='w2', max=10, min=-10), IntSlider(value=-5, description='w3', max=10, min=-10), IntSlider(value=-7, description='w4', max=10, min=-10), IntSlider(value=3, description='b2', max=10, min=-10))), VBox(children=(IntSlider(value=12, description='w5', max=15, min=-15), IntSlider(value=-12, description='w6', max=15, min=-15), IntSlider(value=-5, description='b3', max=10, min=-10))), HTMLMath(value='$$\\\\hat{Y}=$$0.993310169658')))"
      ]
     },
     "metadata": {},
     "output_type": "display_data"
    },
    {
     "data": {
      "application/vnd.jupyter.widget-view+json": {
       "model_id": "be7f2dedd87347e295914532b4ab8392",
       "version_major": 2,
       "version_minor": 0
      },
      "text/html": [
       "<p>Failed to display Jupyter Widget of type <code>Output</code>.</p>\n",
       "<p>\n",
       "  If you're reading this message in the Jupyter Notebook or JupyterLab Notebook, it may mean\n",
       "  that the widgets JavaScript is still loading. If this message persists, it\n",
       "  likely means that the widgets JavaScript library is either not installed or\n",
       "  not enabled. See the <a href=\"https://ipywidgets.readthedocs.io/en/stable/user_install.html\">Jupyter\n",
       "  Widgets Documentation</a> for setup instructions.\n",
       "</p>\n",
       "<p>\n",
       "  If you're reading this message in another frontend (for example, a static\n",
       "  rendering on GitHub or <a href=\"https://nbviewer.jupyter.org/\">NBViewer</a>),\n",
       "  it may mean that your frontend doesn't currently support widgets.\n",
       "</p>\n"
      ],
      "text/plain": [
       "Output()"
      ]
     },
     "metadata": {},
     "output_type": "display_data"
    }
   ],
   "source": [
    "display(layout, out)"
   ]
  },
  {
   "cell_type": "code",
   "execution_count": null,
   "metadata": {},
   "outputs": [],
   "source": []
  }
 ],
 "metadata": {
  "kernelspec": {
   "display_name": "Python 3",
   "language": "python",
   "name": "python3"
  },
  "language_info": {
   "codemirror_mode": {
    "name": "ipython",
    "version": 3
   },
   "file_extension": ".py",
   "mimetype": "text/x-python",
   "name": "python",
   "nbconvert_exporter": "python",
   "pygments_lexer": "ipython3",
   "version": "3.6.4"
  }
 },
 "nbformat": 4,
 "nbformat_minor": 2
}
